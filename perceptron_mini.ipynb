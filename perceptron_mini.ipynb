{
 "cells": [
  {
   "cell_type": "code",
   "execution_count": 2,
   "id": "7ef2a116",
   "metadata": {},
   "outputs": [
    {
     "data": {
      "text/plain": [
       "3"
      ]
     },
     "execution_count": 2,
     "metadata": {},
     "output_type": "execute_result"
    }
   ],
   "source": [
    "1+2"
   ]
  },
  {
   "cell_type": "code",
   "execution_count": 11,
   "id": "71d37c38",
   "metadata": {
    "scrolled": false
   },
   "outputs": [
    {
     "name": "stdout",
     "output_type": "stream",
     "text": [
      ">epoch=0, lrate=0.100, error=2.000\n",
      ">epoch=1, lrate=0.100, error=1.000\n",
      ">epoch=2, lrate=0.100, error=0.000\n",
      ">epoch=3, lrate=0.100, error=0.000\n",
      ">epoch=4, lrate=0.100, error=0.000\n",
      "\n",
      "These are the trained weights\n",
      "[-0.1, 0.20653449430000004, -0.23418117710000003]\n"
     ]
    }
   ],
   "source": [
    "def predict(row,weights):\n",
    "    activation=weights[0]\n",
    "    for i in range(len(row)-1):\n",
    "        activation+=weights[i+1]*row[i]\n",
    "    return 1.0 if activation>=0.0 else 0.0\n",
    "def train_weights(train,l_rate,n_epoch):\n",
    "    weights=[0.0 for i in range (len(train[0]))]\n",
    "    for epoch in range(n_epoch):\n",
    "        sum_error=0\n",
    "        for row in train:\n",
    "            prediction=predict(row,weights)\n",
    "            error=row[-1]-prediction\n",
    "            sum_error+=error**2\n",
    "            weights[0]=weights[0]+l_rate*error\n",
    "            for i in range(len(row)-1):\n",
    "                weights[i+1]=weights[i+1]+l_rate*error*row[i]\n",
    "        print('>epoch=%d, lrate=%.3f, error=%.3f'%(epoch,l_rate,sum_error))\n",
    "    return weights\n",
    "\n",
    "\n",
    "dataset=[[2.7810836,2.550537003,0],\n",
    "          [1.465489372,2.362125076,0],\n",
    "          [3.396561688,4.400293529,0],\n",
    "          [1.38807019,1.8502200317,0],\n",
    "          [3.064072332,3.005305973,0],\n",
    "          [7.627512143,2.759262235,1],\n",
    "          [5.332441248,2.088626775,1],\n",
    "          [6.922596716, 1.77106367,1],\n",
    "          [8.675418651,-0.242068655,1],\n",
    "          [7.673756466,3.508563011,1]]\n",
    "\n",
    "l_rate=0.1\n",
    "n_epoch=5\n",
    "weights=train_weights(dataset,l_rate,n_epoch)\n",
    "print('\\nThese are the trained weights')\n",
    "print(weights)\n"
   ]
  },
  {
   "cell_type": "code",
   "execution_count": null,
   "id": "23294a37",
   "metadata": {},
   "outputs": [],
   "source": []
  },
  {
   "cell_type": "code",
   "execution_count": null,
   "id": "f8f9b161",
   "metadata": {},
   "outputs": [],
   "source": []
  }
 ],
 "metadata": {
  "kernelspec": {
   "display_name": "Python 3 (ipykernel)",
   "language": "python",
   "name": "python3"
  },
  "language_info": {
   "codemirror_mode": {
    "name": "ipython",
    "version": 3
   },
   "file_extension": ".py",
   "mimetype": "text/x-python",
   "name": "python",
   "nbconvert_exporter": "python",
   "pygments_lexer": "ipython3",
   "version": "3.9.13"
  }
 },
 "nbformat": 4,
 "nbformat_minor": 5
}
